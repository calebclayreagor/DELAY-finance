{
 "cells": [
  {
   "cell_type": "code",
   "execution_count": null,
   "id": "59160c74",
   "metadata": {},
   "outputs": [],
   "source": [
    "# np.random.seed(1)\n",
    "# split = pd.Series(1, index = X.columns, name = 'Split')\n",
    "# split.loc[split.sample(frac = .2).index] = 2\n",
    "# split.to_csv('splitLabels.csv'); split"
   ]
  },
  {
   "cell_type": "code",
   "execution_count": null,
   "id": "1685743a",
   "metadata": {},
   "outputs": [],
   "source": [
    "# tf = pd.Series(X.columns).to_csv(\n",
    "#     'TranscriptionFactors.csv',\n",
    "#     index = False, header = False)"
   ]
  },
  {
   "cell_type": "code",
   "execution_count": null,
   "id": "23fef6a7",
   "metadata": {},
   "outputs": [],
   "source": [
    "# t = np.arange(X.shape[0]) / (X.shape[0] - 1)\n",
    "# t = pd.Series(t, index = X.index, name = 'PseudoTime')\n",
    "# t.to_csv('PseudoTime.csv'); t"
   ]
  }
 ],
 "metadata": {
  "kernelspec": {
   "display_name": "stock-networks",
   "language": "python",
   "name": "python3"
  },
  "language_info": {
   "name": "python",
   "version": "3.13.5"
  }
 },
 "nbformat": 4,
 "nbformat_minor": 5
}
