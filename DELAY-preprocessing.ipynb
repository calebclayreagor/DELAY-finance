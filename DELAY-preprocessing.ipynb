{
 "cells": [
  {
   "cell_type": "code",
   "execution_count": 1,
   "id": "6ee2acb1",
   "metadata": {},
   "outputs": [],
   "source": [
    "import os\n",
    "import numpy as np\n",
    "import pandas as pd"
   ]
  },
  {
   "cell_type": "code",
   "execution_count": 2,
   "id": "d7fdfe64",
   "metadata": {},
   "outputs": [
    {
     "data": {
      "text/html": [
       "<div>\n",
       "<style scoped>\n",
       "    .dataframe tbody tr th:only-of-type {\n",
       "        vertical-align: middle;\n",
       "    }\n",
       "\n",
       "    .dataframe tbody tr th {\n",
       "        vertical-align: top;\n",
       "    }\n",
       "\n",
       "    .dataframe thead th {\n",
       "        text-align: right;\n",
       "    }\n",
       "</style>\n",
       "<table border=\"1\" class=\"dataframe\">\n",
       "  <thead>\n",
       "    <tr style=\"text-align: right;\">\n",
       "      <th></th>\n",
       "      <th>Gene1</th>\n",
       "      <th>Gene2</th>\n",
       "    </tr>\n",
       "  </thead>\n",
       "  <tbody>\n",
       "    <tr>\n",
       "      <th>0</th>\n",
       "      <td>BAX</td>\n",
       "      <td>ACHV</td>\n",
       "    </tr>\n",
       "    <tr>\n",
       "      <th>1</th>\n",
       "      <td>BAX</td>\n",
       "      <td>ACON</td>\n",
       "    </tr>\n",
       "    <tr>\n",
       "      <th>2</th>\n",
       "      <td>BAX</td>\n",
       "      <td>ADMA</td>\n",
       "    </tr>\n",
       "    <tr>\n",
       "      <th>3</th>\n",
       "      <td>BAX</td>\n",
       "      <td>ADPT</td>\n",
       "    </tr>\n",
       "    <tr>\n",
       "      <th>4</th>\n",
       "      <td>BAX</td>\n",
       "      <td>ALBT</td>\n",
       "    </tr>\n",
       "    <tr>\n",
       "      <th>...</th>\n",
       "      <td>...</td>\n",
       "      <td>...</td>\n",
       "    </tr>\n",
       "    <tr>\n",
       "      <th>872</th>\n",
       "      <td>VTRS</td>\n",
       "      <td>VMD</td>\n",
       "    </tr>\n",
       "    <tr>\n",
       "      <th>873</th>\n",
       "      <td>VTRS</td>\n",
       "      <td>VSTM</td>\n",
       "    </tr>\n",
       "    <tr>\n",
       "      <th>874</th>\n",
       "      <td>VTRS</td>\n",
       "      <td>VYGR</td>\n",
       "    </tr>\n",
       "    <tr>\n",
       "      <th>875</th>\n",
       "      <td>VTRS</td>\n",
       "      <td>XOMA</td>\n",
       "    </tr>\n",
       "    <tr>\n",
       "      <th>876</th>\n",
       "      <td>VTRS</td>\n",
       "      <td>XXII</td>\n",
       "    </tr>\n",
       "  </tbody>\n",
       "</table>\n",
       "<p>877 rows × 2 columns</p>\n",
       "</div>"
      ],
      "text/plain": [
       "    Gene1 Gene2\n",
       "0     BAX  ACHV\n",
       "1     BAX  ACON\n",
       "2     BAX  ADMA\n",
       "3     BAX  ADPT\n",
       "4     BAX  ALBT\n",
       "..    ...   ...\n",
       "872  VTRS   VMD\n",
       "873  VTRS  VSTM\n",
       "874  VTRS  VYGR\n",
       "875  VTRS  XOMA\n",
       "876  VTRS  XXII\n",
       "\n",
       "[877 rows x 2 columns]"
      ]
     },
     "execution_count": 2,
     "metadata": {},
     "output_type": "execute_result"
    }
   ],
   "source": [
    "refNetwork = pd.read_csv(os.path.join('DELAY', 'refNetwork.csv'))\n",
    "refNetwork"
   ]
  },
  {
   "cell_type": "markdown",
   "id": "993a4afd",
   "metadata": {},
   "source": [
    "start_date, end_date = '2012-01-01', '2023-12-31'\n",
    "ix = pd.date_range(start_date, end_date, freq = 'B')\n",
    "cols = refNetwork.Gene2.sort_values().unique()\n",
    "X = pd.DataFrame(0, index = ix, columns = cols, dtype = np.float64)\n",
    "datadir = os.path.join('', 'stocks')\n",
    "for col in X.columns:\n",
    "    pth = os.path.join(datadir, col + '.csv')\n",
    "    df = pd.read_csv(pth, header = [0, 1, 2], index_col = 0)\n",
    "    df.index = pd.to_datetime(df.index)\n",
    "    X[col] = df['Adj Close']\n",
    "R = X.pct_change().dropna(how = 'all')\n",
    "R = R.sub(R.mean(1), 0); R"
   ]
  },
  {
   "cell_type": "code",
   "execution_count": null,
   "id": "59160c74",
   "metadata": {},
   "outputs": [],
   "source": [
    "# np.random.seed(1)\n",
    "# split = pd.Series(1, index = X.columns, name = 'Split')\n",
    "# split.loc[split.sample(frac = .2).index] = 2\n",
    "# split.to_csv('splitLabels.csv'); split"
   ]
  },
  {
   "cell_type": "code",
   "execution_count": null,
   "id": "1685743a",
   "metadata": {},
   "outputs": [],
   "source": [
    "# tf = pd.Series(X.columns).to_csv(\n",
    "#     'TranscriptionFactors.csv',\n",
    "#     index = False, header = False)"
   ]
  },
  {
   "cell_type": "code",
   "execution_count": null,
   "id": "23fef6a7",
   "metadata": {},
   "outputs": [],
   "source": [
    "# t = np.arange(X.shape[0]) / (X.shape[0] - 1)\n",
    "# t = pd.Series(t, index = X.index, name = 'PseudoTime')\n",
    "# t.to_csv('PseudoTime.csv'); t"
   ]
  }
 ],
 "metadata": {
  "kernelspec": {
   "display_name": "stock-networks",
   "language": "python",
   "name": "python3"
  },
  "language_info": {
   "codemirror_mode": {
    "name": "ipython",
    "version": 3
   },
   "file_extension": ".py",
   "mimetype": "text/x-python",
   "name": "python",
   "nbconvert_exporter": "python",
   "pygments_lexer": "ipython3",
   "version": "3.13.5"
  }
 },
 "nbformat": 4,
 "nbformat_minor": 5
}
